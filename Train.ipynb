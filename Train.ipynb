{
 "cells": [
  {
   "cell_type": "code",
   "execution_count": 1,
   "metadata": {},
   "outputs": [],
   "source": [
    "from torchvision.datasets import ImageFolder\n",
    "from torchvision import transforms as tt\n",
    "from torch.utils.data import DataLoader, random_split, ConcatDataset\n",
    "import torch\n",
    "from torch import nn\n",
    "from torch import optim\n",
    "from digit_recognizer import DigitRecognizer"
   ]
  },
  {
   "cell_type": "code",
   "execution_count": 2,
   "metadata": {},
   "outputs": [],
   "source": [
    "folder_path = \"/Users/osiprovin/Desktop/ml:dl/CV/Magic math notebook/Dataset\""
   ]
  },
  {
   "cell_type": "code",
   "execution_count": 3,
   "metadata": {},
   "outputs": [],
   "source": [
    "transforms = tt.Compose([\n",
    "    tt.Resize((28, 28)),\n",
    "    tt.Grayscale(),\n",
    "    tt.ToTensor()\n",
    "])"
   ]
  },
  {
   "cell_type": "code",
   "execution_count": 4,
   "metadata": {},
   "outputs": [],
   "source": [
    "folder = ImageFolder(folder_path, transforms)\n",
    "\n",
    "train_size = int(0.8 * len(folder))\n",
    "test_size = len(folder) - train_size\n",
    "\n",
    "# Split the dataset\n",
    "train_folder, test_folder = random_split(folder, [train_size, test_size])\n",
    "\n",
    "# Create DataLoaders\n",
    "batch_size = 4\n",
    "\n",
    "train_loader = DataLoader(train_folder, batch_size=batch_size, shuffle=True)\n",
    "test_loader = DataLoader(test_folder, batch_size=batch_size, shuffle=True)"
   ]
  },
  {
   "cell_type": "code",
   "execution_count": 11,
   "metadata": {},
   "outputs": [],
   "source": [
    "device = torch.device(\"mps\") if torch.backends.mps.is_available() else torch.device(\"cpu\")\n",
    "\n",
    "digit_recognizer = DigitRecognizer().to(device)\n",
    "\n",
    "criterion = nn.CrossEntropyLoss().to(device)\n",
    "\n",
    "optimizer = optim.Adam(digit_recognizer.parameters(), lr=0.0002)\n",
    "\n",
    "num_epochs = 5"
   ]
  },
  {
   "cell_type": "code",
   "execution_count": 12,
   "metadata": {},
   "outputs": [
    {
     "name": "stdout",
     "output_type": "stream",
     "text": [
      "Epoch 1, Training Loss: 0.05804, Training Accuracy: 93.12%, Validation Loss: 0.01248, Validation Accuracy: 98.8%\n",
      "Epoch 2, Training Loss: 0.01509, Training Accuracy: 98.35%, Validation Loss: 0.00824, Validation Accuracy: 99.28%\n",
      "Epoch 3, Training Loss: 0.01031, Training Accuracy: 98.89%, Validation Loss: 0.00601, Validation Accuracy: 99.51%\n",
      "Epoch 4, Training Loss: 0.00829, Training Accuracy: 99.16%, Validation Loss: 0.00535, Validation Accuracy: 99.57%\n",
      "Epoch 5, Training Loss: 0.00703, Training Accuracy: 99.28%, Validation Loss: 0.00416, Validation Accuracy: 99.7%\n"
     ]
    }
   ],
   "source": [
    "train_losses = []\n",
    "val_losses = []\n",
    "train_accuracies = []\n",
    "val_accuracies = []\n",
    "\n",
    "for epoch in range(num_epochs):\n",
    "    \n",
    "    # Train\n",
    "    digit_recognizer.train()\n",
    "    train_loss = 0.0\n",
    "    correct_train = 0\n",
    "    \n",
    "    for inputs, labels in train_loader:\n",
    "        optimizer.zero_grad()\n",
    "        inputs = inputs.to(device)\n",
    "        labels = labels.to(device)\n",
    "        proba = digit_recognizer(inputs)\n",
    "        loss = criterion(proba, labels)\n",
    "        train_loss += loss.item()\n",
    "        loss.backward()\n",
    "        optimizer.step()\n",
    "        preds = digit_recognizer.proba_to_predict(proba)\n",
    "        correct_train += (preds == labels).sum().item()\n",
    "        \n",
    "    \n",
    "    train_loss /= len(train_folder)\n",
    "    train_losses.append(train_loss)\n",
    "    train_accuracy = 100 * correct_train / len(train_folder)\n",
    "    train_accuracies.append(train_accuracy)\n",
    "    \n",
    "    \n",
    "    # Validationx\n",
    "    digit_recognizer.eval() \n",
    "    val_loss = 0.0\n",
    "    correct_val = 0\n",
    "    \n",
    "    with torch.no_grad():\n",
    "        for inputs, labels in test_loader:\n",
    "            inputs = inputs.to(device)\n",
    "            labels = labels.to(device)\n",
    "            proba = digit_recognizer(inputs)\n",
    "            loss = criterion(proba, labels)\n",
    "            val_loss += loss.item()\n",
    "            preds = digit_recognizer.proba_to_predict(proba)\n",
    "            correct_val += (preds == labels).sum().item()\n",
    "    \n",
    "    val_loss /= len(test_folder)\n",
    "    val_losses.append(val_loss)\n",
    "    val_accuracy = 100 * correct_val / len(test_folder)\n",
    "    val_accuracies.append(val_accuracy)\n",
    "    \n",
    "    print(f\"Epoch {epoch+1}, Training Loss: {round(train_loss, 5)}, Training Accuracy: {round(train_accuracy, 2)}%, Validation Loss: {round(val_loss, 5)}, Validation Accuracy: {round(val_accuracy, 2)}%\")\n",
    "    break\n",
    "\n",
    "digit_recognizer = digit_recognizer.cpu()\n",
    "torch.save(digit_recognizer.state_dict(), 'digit_recognizer.pth')"
   ]
  }
 ],
 "metadata": {
  "kernelspec": {
   "display_name": "Python 3",
   "language": "python",
   "name": "python3"
  },
  "language_info": {
   "codemirror_mode": {
    "name": "ipython",
    "version": 3
   },
   "file_extension": ".py",
   "mimetype": "text/x-python",
   "name": "python",
   "nbconvert_exporter": "python",
   "pygments_lexer": "ipython3",
   "version": "3.10.5"
  }
 },
 "nbformat": 4,
 "nbformat_minor": 2
}
